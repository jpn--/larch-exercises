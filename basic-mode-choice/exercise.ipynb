{
 "cells": [
  {
   "cell_type": "markdown",
   "metadata": {},
   "source": [
    "# Trip Mode Choice Exercise"
   ]
  },
  {
   "cell_type": "code",
   "execution_count": 1,
   "metadata": {
    "ExecuteTime": {
     "end_time": "2020-02-15T22:22:44.414388Z",
     "start_time": "2020-02-15T22:22:44.405218Z"
    }
   },
   "outputs": [
    {
     "name": "stderr",
     "output_type": "stream",
     "text": [
      "/Users/jpn/anaconda3/envs/greenhouse/lib/python3.7/site-packages/statsmodels/tools/_testing.py:19: FutureWarning: pandas.util.testing is deprecated. Use the functions in the public API at pandas.testing instead.\n",
      "  import pandas.util.testing as tm\n"
     ]
    },
    {
     "data": {
      "text/plain": [
       "'5.3.5'"
      ]
     },
     "execution_count": 1,
     "metadata": {},
     "output_type": "execute_result"
    }
   ],
   "source": [
    "import numpy as np\n",
    "import pandas as pd\n",
    "import scipy.stats as ss\n",
    "import larch\n",
    "larch.__version__"
   ]
  },
  {
   "cell_type": "markdown",
   "metadata": {},
   "source": [
    "Accompanying this notebook is a file with data on intercity business travel in Canada. The data set describes 4,324 trips. The data set includes one record for each mode alternative that was available to each individual. Some individuals do not have all alternatives available so the total number of records equals 15,520."
   ]
  },
  {
   "cell_type": "code",
   "execution_count": 2,
   "metadata": {},
   "outputs": [
    {
     "name": "stdout",
     "output_type": "stream",
     "text": [
      "<class 'pandas.core.frame.DataFrame'>\n",
      "RangeIndex: 15520 entries, 0 to 15519\n",
      "Data columns (total 21 columns):\n",
      " #   Column     Non-Null Count  Dtype  \n",
      "---  ------     --------------  -----  \n",
      " 0   CASENUM    15520 non-null  int64  \n",
      " 1   ALTNUM     15520 non-null  int64  \n",
      " 2   CHOICE     15520 non-null  int64  \n",
      " 3   DIST       15520 non-null  int64  \n",
      " 4   COST       15520 non-null  float64\n",
      " 5   IVTT       15520 non-null  int64  \n",
      " 6   OVTT       15520 non-null  int64  \n",
      " 7   FREQ       15520 non-null  int64  \n",
      " 8   INVFREQ    15520 non-null  float64\n",
      " 9   FREQ2      15520 non-null  int64  \n",
      " 10  INCOME     15520 non-null  int64  \n",
      " 11  LNINCOME   15520 non-null  float64\n",
      " 12  LCITY      15520 non-null  int64  \n",
      " 13  GRPSIZE    15520 non-null  int64  \n",
      " 14  GENDER     15520 non-null  int64  \n",
      " 15  NIJ        15520 non-null  int64  \n",
      " 16  OVTLNDIS   15520 non-null  float64\n",
      " 17  TOTTIME    15520 non-null  int64  \n",
      " 18  COSTINC    15520 non-null  float64\n",
      " 19  COSTLNINC  15520 non-null  float64\n",
      " 20  CNST       15520 non-null  int64  \n",
      "dtypes: float64(6), int64(15)\n",
      "memory usage: 2.5 MB\n"
     ]
    }
   ],
   "source": [
    "raw_data = pd.read_csv('canada_intercity_business.csv.gz')\n",
    "raw_data.info()"
   ]
  },
  {
   "cell_type": "markdown",
   "metadata": {},
   "source": [
    "**Data Definitions**\n",
    "\n",
    "variable | description\n",
    ":------ | :----------\n",
    "CASENUM | Case number\n",
    "ALTNUM | Alternative 1=train; 2=air; 3=bus; 4=car \n",
    "CHOICE | Indicates chosen alternative; 1 if chosen and 0 otherwise. \n",
    "DIST | (km) Travel distance \n",
    "COST | (dollars) Travel cost in dollars (measured in 1990 Canadian dollars). \n",
    "IVTT | (minutes) In-vehicle travel time\n",
    "OVTT | (minutes) Out-of-vehicle travel time. (Note 0 for automobile.)\n",
    "FREQ | Frequency per day. (Note 0 for automobile.) \n",
    "INVFREQ | Inverse of frequency per day. (Note 0 for automobile.) \n",
    "FREQ2 | Frequency per day. (Note 999 for automobile.) \n",
    "INCOME | (dollars) Individual’s annual income in dollars (measured in thousands of 1990 Canadian dollars)\n",
    "LNINCOME | The natural log of annual income\n",
    "LCITY | Indicated whether one or more trip ends is in the CBD. 0=no trip ends; 1=one trip end; 2=both trip ends \n",
    "GRPSIZE | Group size, the number of people traveling together\n",
    "GENDER | Gender 0=male; 1=female. \n",
    "NIJ | Number of alternatives in choice set. \n",
    "OVTLNDIS | (min/log(km)) Out of vehicle travel time divided by the natural log of distance.\n",
    "TOTTIME | (min) Total travel time.\n",
    "COSTINC | Cost divided by income\n",
    "COSTLNINC | Cost divided by the log of income\n",
    "CNST | (1) A constant"
   ]
  },
  {
   "cell_type": "markdown",
   "metadata": {},
   "source": [
    "## 1. Explore the data, using relevant tools. \n",
    "\n",
    "Report up to 5 of your most interesting findings, with frequency tables, crosstabs, and/or graphs as appropriate.  Each table or figure should be neatly formatted, fit on a single page, and be accompanied by a short blurb (one to three sentences will typically be sufficient) describing *why* if is interesting or relevant for this analysis. "
   ]
  },
  {
   "cell_type": "markdown",
   "metadata": {},
   "source": [
    "## 2. Estimate a basic reference model\n",
    "\n",
    "Use Larch, or any similarly appropriate tool, to estimate multinomial logit (MNL) models of mode choice for this data. Estimate a constants only model as well as a basic reference model that includes only the alternative specific constants, travel time and travel cost. Interpret your results. \n",
    "\n"
   ]
  },
  {
   "cell_type": "markdown",
   "metadata": {},
   "source": [
    "## 3. Explore the impact of frequency on mode choice\n",
    "\n",
    "Starting from the baseline model, create two new models, adding the frequency of service using the variables `FREQ` and `FREQ2`, respectively. The only difference between these two variables is that the frequency of service for the Car alternative is expressed as 0 in `FREQ`, and as 999 in `FREQ2`. (Since your car has no scheduled service, frequency can be considered as 0; or, since it leaves when you are ready, it can be considered to have near infinite frequency.) Compare the results of these two models. What is different? What is the same? \n",
    "\n",
    "Explain the implication of this, particularly regarding the interpretation of the alternative specific constants, and their t-statistics."
   ]
  },
  {
   "cell_type": "markdown",
   "metadata": {},
   "source": [
    "## 4. Explore other models with alternative specific variables\n",
    "\n",
    "Estimate at least two additional models including one or more alternative specific variables (i.e., those that vary with the decision maker, not the alternatives) in each; state your reasons for selecting these variables (your work in part 1 may be valuable here). \n",
    "\n",
    "Using all appropriate tools and techniques at your disposal, interpret and evaluate these models (and those from before) individually, relative to the other models, relative to the null parameters model and relative to the constants only model. \n",
    "\n",
    "Explicitly explain the meaning of the estimation results for the attributes of alternatives and the alternative specific variables included in each model. Decide which, if any, of the alternative specific variables should be included, select a preferred model and explain the reasons for your selection.\n",
    "\n"
   ]
  },
  {
   "cell_type": "markdown",
   "metadata": {},
   "source": [
    "## 5. Explore other models with transformations of variables\n",
    "\n",
    "Estimate at least two additional models using the best of the results above and additional ideas for enhancing the model specification using transformations of the variables. In each case, explain how and why you transform the variables that you use, and interpret and evaluate the new models relative to those already estimated. Some possibilities:\n",
    "\n",
    "1. Replace COST by COSTINC.\n",
    "\n",
    "2. Add frequency transformed in such a way as to indicate a diminishing effect of increased frequency.\n",
    "\n",
    "3. Examine the impact of group size using a piecewise linear formulation, or a dummy variable for large vs. small group.\n",
    "\n"
   ]
  },
  {
   "cell_type": "markdown",
   "metadata": {},
   "source": [
    "## 6. Identify a preferred model.\n",
    "\n",
    "Of all the models that you have estimates, identify an overall preferred model to use in travel forecasting, and explain why you have selected the model that you choose.\n",
    "\n"
   ]
  }
 ],
 "metadata": {
  "kernelspec": {
   "display_name": "Python [conda env:greenhouse]",
   "language": "python",
   "name": "conda-env-greenhouse-py"
  },
  "language_info": {
   "codemirror_mode": {
    "name": "ipython",
    "version": 3
   },
   "file_extension": ".py",
   "mimetype": "text/x-python",
   "name": "python",
   "nbconvert_exporter": "python",
   "pygments_lexer": "ipython3",
   "version": "3.7.3"
  },
  "nteract": {
   "version": "0.12.3"
  },
  "toc": {
   "base_numbering": 1,
   "nav_menu": {},
   "number_sections": false,
   "sideBar": true,
   "skip_h1_title": true,
   "title_cell": "Table of Contents",
   "title_sidebar": "Contents",
   "toc_cell": false,
   "toc_position": {},
   "toc_section_display": true,
   "toc_window_display": true
  }
 },
 "nbformat": 4,
 "nbformat_minor": 4
}
